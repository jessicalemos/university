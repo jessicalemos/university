{
 "cells": [
  {
   "cell_type": "code",
   "execution_count": 1,
   "metadata": {},
   "outputs": [
    {
     "name": "stderr",
     "output_type": "stream",
     "text": [
      "Using TensorFlow backend.\n",
      "/opt/conda/envs/fastai/lib/python3.6/site-packages/tensorflow/python/framework/dtypes.py:523: FutureWarning: Passing (type, 1) or '1type' as a synonym of type is deprecated; in a future version of numpy, it will be understood as (type, (1,)) / '(1,)type'.\n",
      "  _np_qint8 = np.dtype([(\"qint8\", np.int8, 1)])\n",
      "/opt/conda/envs/fastai/lib/python3.6/site-packages/tensorflow/python/framework/dtypes.py:524: FutureWarning: Passing (type, 1) or '1type' as a synonym of type is deprecated; in a future version of numpy, it will be understood as (type, (1,)) / '(1,)type'.\n",
      "  _np_quint8 = np.dtype([(\"quint8\", np.uint8, 1)])\n",
      "/opt/conda/envs/fastai/lib/python3.6/site-packages/tensorflow/python/framework/dtypes.py:525: FutureWarning: Passing (type, 1) or '1type' as a synonym of type is deprecated; in a future version of numpy, it will be understood as (type, (1,)) / '(1,)type'.\n",
      "  _np_qint16 = np.dtype([(\"qint16\", np.int16, 1)])\n",
      "/opt/conda/envs/fastai/lib/python3.6/site-packages/tensorflow/python/framework/dtypes.py:526: FutureWarning: Passing (type, 1) or '1type' as a synonym of type is deprecated; in a future version of numpy, it will be understood as (type, (1,)) / '(1,)type'.\n",
      "  _np_quint16 = np.dtype([(\"quint16\", np.uint16, 1)])\n",
      "/opt/conda/envs/fastai/lib/python3.6/site-packages/tensorflow/python/framework/dtypes.py:527: FutureWarning: Passing (type, 1) or '1type' as a synonym of type is deprecated; in a future version of numpy, it will be understood as (type, (1,)) / '(1,)type'.\n",
      "  _np_qint32 = np.dtype([(\"qint32\", np.int32, 1)])\n",
      "/opt/conda/envs/fastai/lib/python3.6/site-packages/tensorflow/python/framework/dtypes.py:532: FutureWarning: Passing (type, 1) or '1type' as a synonym of type is deprecated; in a future version of numpy, it will be understood as (type, (1,)) / '(1,)type'.\n",
      "  np_resource = np.dtype([(\"resource\", np.ubyte, 1)])\n"
     ]
    }
   ],
   "source": [
    "from keras.datasets import mnist\n",
    "from keras.layers import Input, Dense\n",
    "from keras.models import Model\n",
    "from keras.utils import np_utils\n",
    "from keras import backend as K\n",
    "import sys, os \n",
    "\n",
    "import numpy as np\n",
    "import pandas as pd\n",
    "import matplotlib.pyplot as plt\n",
    "from livelossplot import PlotLossesKeras\n",
    "\n",
    "%matplotlib inline"
   ]
  },
  {
   "cell_type": "code",
   "execution_count": 3,
   "metadata": {},
   "outputs": [
    {
     "name": "stdout",
     "output_type": "stream",
     "text": [
      "A acertar o backend e libertar memória da grafica\n"
     ]
    },
    {
     "ename": "AssertionError",
     "evalue": "",
     "output_type": "error",
     "traceback": [
      "\u001b[0;31m---------------------------------------------------------------------------\u001b[0m",
      "\u001b[0;31mAssertionError\u001b[0m                            Traceback (most recent call last)",
      "\u001b[0;32m<ipython-input-3-f6c37641e439>\u001b[0m in \u001b[0;36m<module>\u001b[0;34m\u001b[0m\n\u001b[1;32m     20\u001b[0m     \u001b[0mK\u001b[0m\u001b[0;34m.\u001b[0m\u001b[0mset_session\u001b[0m\u001b[0;34m(\u001b[0m\u001b[0mK\u001b[0m\u001b[0;34m.\u001b[0m\u001b[0mtf\u001b[0m\u001b[0;34m.\u001b[0m\u001b[0mSession\u001b[0m\u001b[0;34m(\u001b[0m\u001b[0mconfig\u001b[0m\u001b[0;34m=\u001b[0m\u001b[0mcfg\u001b[0m\u001b[0;34m)\u001b[0m\u001b[0;34m)\u001b[0m\u001b[0;34m\u001b[0m\u001b[0;34m\u001b[0m\u001b[0m\n\u001b[1;32m     21\u001b[0m \u001b[0;34m\u001b[0m\u001b[0m\n\u001b[0;32m---> 22\u001b[0;31m \u001b[0mset_keras_backend\u001b[0m\u001b[0;34m(\u001b[0m\u001b[0;34m\"tensorflow\"\u001b[0m\u001b[0;34m)\u001b[0m\u001b[0;34m\u001b[0m\u001b[0;34m\u001b[0m\u001b[0m\n\u001b[0m",
      "\u001b[0;32m<ipython-input-3-f6c37641e439>\u001b[0m in \u001b[0;36mset_keras_backend\u001b[0;34m(backend)\u001b[0m\n\u001b[1;32m      8\u001b[0m         \u001b[0mos\u001b[0m\u001b[0;34m.\u001b[0m\u001b[0menviron\u001b[0m\u001b[0;34m[\u001b[0m\u001b[0;34m'KERAS_BACKEND'\u001b[0m\u001b[0;34m]\u001b[0m \u001b[0;34m=\u001b[0m \u001b[0mbackend\u001b[0m\u001b[0;34m\u001b[0m\u001b[0;34m\u001b[0m\u001b[0m\n\u001b[1;32m      9\u001b[0m         \u001b[0mimportlib\u001b[0m\u001b[0;34m.\u001b[0m\u001b[0mreload\u001b[0m\u001b[0;34m(\u001b[0m\u001b[0mK\u001b[0m\u001b[0;34m)\u001b[0m\u001b[0;34m\u001b[0m\u001b[0;34m\u001b[0m\u001b[0m\n\u001b[0;32m---> 10\u001b[0;31m         \u001b[0;32massert\u001b[0m \u001b[0mK\u001b[0m\u001b[0;34m.\u001b[0m\u001b[0mbackend\u001b[0m\u001b[0;34m(\u001b[0m\u001b[0;34m)\u001b[0m \u001b[0;34m==\u001b[0m \u001b[0mbackend\u001b[0m\u001b[0;34m\u001b[0m\u001b[0;34m\u001b[0m\u001b[0m\n\u001b[0m\u001b[1;32m     11\u001b[0m     \u001b[0;32mif\u001b[0m \u001b[0mbackend\u001b[0m \u001b[0;34m==\u001b[0m \u001b[0;34m\"tensorflow\"\u001b[0m\u001b[0;34m:\u001b[0m\u001b[0;34m\u001b[0m\u001b[0;34m\u001b[0m\u001b[0m\n\u001b[1;32m     12\u001b[0m         \u001b[0mconfig\u001b[0m \u001b[0;34m=\u001b[0m \u001b[0mtf\u001b[0m\u001b[0;34m.\u001b[0m\u001b[0mConfigProto\u001b[0m\u001b[0;34m(\u001b[0m\u001b[0;34m)\u001b[0m\u001b[0;34m\u001b[0m\u001b[0;34m\u001b[0m\u001b[0m\n",
      "\u001b[0;31mAssertionError\u001b[0m: "
     ]
    }
   ],
   "source": [
    "#para melhor gestão memória GPU por parte do tensorflow\n",
    "import tensorflow as tf     \n",
    "import importlib\n",
    "\n",
    "def set_keras_backend(backend):\n",
    "    print(\"A acertar o backend e libertar memória da grafica\")\n",
    "    if K.backend() != backend:\n",
    "        os.environ['KERAS_BACKEND'] = backend\n",
    "        importlib.reload(K)\n",
    "        assert K.backend() == backend\n",
    "    if backend == \"tensorflow\":\n",
    "        config = tf.ConfigProto()\n",
    "        config.gpu_options.allow_growth = True\n",
    "        session = tf.Session(config=config)\n",
    "        \n",
    "def limit_mem():\n",
    "    K.get_session().close()\n",
    "    cfg = K.tf.ConfigProto()\n",
    "    cfg.gpu_options.allow_growth = True\n",
    "    K.set_session(K.tf.Session(config=cfg))\n",
    "\n",
    "set_keras_backend(\"tensorflow\")"
   ]
  },
  {
   "cell_type": "code",
   "execution_count": 3,
   "metadata": {},
   "outputs": [
    {
     "name": "stdout",
     "output_type": "stream",
     "text": [
      "(60000, 28, 28)\n"
     ]
    },
    {
     "data": {
      "image/png": "[encoded data removed]",
      "text/plain": [
       "<Figure size 432x288 with 6 Axes>"
      ]
     },
     "metadata": {
      "needs_background": "light"
     },
     "output_type": "display_data"
    },
    {
     "name": "stdout",
     "output_type": "stream",
     "text": [
      "(60000, 784)\n",
      "(10000, 784)\n"
     ]
    }
   ],
   "source": [
    "def load_mnist_dataset(path='mnist.npz'):\n",
    "    #path = get_file(path, origin='https://s3.amazonaws.com/img-datasets/mnist.npz')\n",
    "    f = np.load(path)\n",
    "    x_train = f['x_train']\n",
    "    y_train = f['y_train']\n",
    "    x_test = f['x_test']\n",
    "    y_test = f['y_test']\n",
    "    f.close()\n",
    "    return (x_train, y_train), (x_test, y_test)\n",
    "\n",
    "\n",
    "# Visualizar 6 imagens do mnist numa escala de cinzentos\n",
    "def visualize_mnist(X_train):\n",
    "    #(X_train, y_train), (X_test, y_test) = load_mnist_dataset('mnist.npz')\n",
    "    plt.subplot(321)\n",
    "    plt.imshow(X_train[0], cmap='gray')\n",
    "    plt.subplot(322)\n",
    "    plt.imshow(X_train[1], cmap='gray')\n",
    "    plt.subplot(323)\n",
    "    plt.imshow(X_train[2], cmap='gray')\n",
    "    plt.subplot(324)\n",
    "    plt.imshow(X_train[3], cmap='gray')\n",
    "    plt.subplot(325)\n",
    "    plt.imshow(X_train[4], cmap='gray')\n",
    "    plt.subplot(326)\n",
    "    plt.imshow(X_train[5], cmap='gray')\n",
    "    plt.show()\n",
    "    \n",
    "def data_preparation_2D():\n",
    "    (X_train, y_train), (X_test, y_test) = load_mnist_dataset('mnist.npz')\n",
    "    print(X_train.shape)\n",
    "    visualize_mnist(X_train)\n",
    "    # transformar para o formato [instancias][largura * altura]\n",
    "    print(\"shape[0]: \",X_train.shape[0])\n",
    "    print(\"shape antes: \",X_train.shape)\n",
    "    X_train = X_train.reshape(X_train.shape[0], 28, 28, 1).astype('float32')\n",
    "    X_test = X_test.reshape(X_test.shape[0], 28, 28, 1).astype('float32')\n",
    "    print(\"shape depois: \",X_train.shape)\n",
    "    # normalizar os valores dos pixeis de 0-255 para 0-1\n",
    "    X_train = X_train / 255\n",
    "    X_test = X_test / 255\n",
    "    # transformar o label que é um inteiro em categorias binárias, o valor passa a ser o correspondente à posição\n",
    "    # o 5 passa a ser a lista [0. 0. 0. 0. 0. 1. 0. 0. 0. 0.]\n",
    "    y_train = np_utils.to_categorical(y_train)\n",
    "    y_test = np_utils.to_categorical(y_test)\n",
    "    num_classes = y_test.shape[1]\n",
    "    return X_train, X_test, y_train, y_test, num_classes\n",
    "\n",
    "\n",
    "def data_preparation_1D():\n",
    "    (X_train, y_train), (X_test, y_test) = load_mnist_dataset('mnist.npz')\n",
    "    print(X_train.shape)\n",
    "    visualize_mnist(X_train)\n",
    "    # transformar para o formato [instancias][pixeis][largura][altura]\n",
    "    X_train = X_train.astype('float32')/255\n",
    "    X_test = X_test.astype('float32')/255\n",
    "    num_pixels = X_train.shape[1] * X_train.shape[2] #ou np.prod(X_train.shape[1:])\n",
    "    X_train = X_train.reshape(len(X_train), num_pixels) #faz o (28,28) = 784\n",
    "    X_test = X_test.reshape(len(X_test), num_pixels)\n",
    "    y_train = np_utils.to_categorical(y_train)\n",
    "    y_test = np_utils.to_categorical(y_test)\n",
    "    num_classes = y_test.shape[1]\n",
    "    print(X_train.shape)\n",
    "    print(X_test.shape)\n",
    "    return X_train, X_test, y_train, y_test, num_classes\n",
    "    \n",
    "    \n",
    "#X_train, X_test, y_train, y_test, num_classes = data_preparation_2D()\n",
    "X_train, X_test, y_train, y_test, num_classes = data_preparation_1D()\n",
    "   "
   ]
  },
  {
   "cell_type": "code",
   "execution_count": 5,
   "metadata": {},
   "outputs": [
    {
     "name": "stdout",
     "output_type": "stream",
     "text": [
      "\n",
      "############### ENCODER #################\n",
      "Model: \"model_3\"\n",
      "_________________________________________________________________\n",
      "Layer (type)                 Output Shape              Param #   \n",
      "=================================================================\n",
      "input_2 (InputLayer)         (None, 784)               0         \n",
      "_________________________________________________________________\n",
      "dense_7 (Dense)              (None, 128)               100480    \n",
      "_________________________________________________________________\n",
      "dense_8 (Dense)              (None, 64)                8256      \n",
      "_________________________________________________________________\n",
      "dense_9 (Dense)              (None, 32)                2080      \n",
      "=================================================================\n",
      "Total params: 110,816\n",
      "Trainable params: 110,816\n",
      "Non-trainable params: 0\n",
      "_________________________________________________________________\n",
      "\n",
      "############### ENCODER + DECODER #################\n",
      "Model: \"model_4\"\n",
      "_________________________________________________________________\n",
      "Layer (type)                 Output Shape              Param #   \n",
      "=================================================================\n",
      "input_2 (InputLayer)         (None, 784)               0         \n",
      "_________________________________________________________________\n",
      "dense_7 (Dense)              (None, 128)               100480    \n",
      "_________________________________________________________________\n",
      "dense_8 (Dense)              (None, 64)                8256      \n",
      "_________________________________________________________________\n",
      "dense_9 (Dense)              (None, 32)                2080      \n",
      "_________________________________________________________________\n",
      "dense_10 (Dense)             (None, 64)                2112      \n",
      "_________________________________________________________________\n",
      "dense_11 (Dense)             (None, 128)               8320      \n",
      "_________________________________________________________________\n",
      "dense_12 (Dense)             (None, 784)               101136    \n",
      "=================================================================\n",
      "Total params: 222,384\n",
      "Trainable params: 222,384\n",
      "Non-trainable params: 0\n",
      "_________________________________________________________________\n"
     ]
    }
   ],
   "source": [
    "#função de ativação relu para não-linearidade e no final sigmoid pois quero a probabilidade de ser 1 ou 0\n",
    "\n",
    "def create_Autoencoder():\n",
    "    input_image= Input(shape=(784,))\n",
    "    encoded1 = Dense(units=128, activation='relu')(input_image)\n",
    "    encoded2 = Dense(units=64, activation='relu')(encoded1)\n",
    "    encoded_final = Dense(units=32, activation='relu')(encoded2)\n",
    "    decoded1 = Dense(units=64, activation='relu')(encoded_final)\n",
    "    decoded2 = Dense(units=128, activation='relu')(decoded1)\n",
    "    decoded_final = Dense(units=784, activation='sigmoid')(decoded2)\n",
    "     \n",
    "    encoder = Model(inputs=input_image, outputs=encoded_final) #só até gargalo (latent space) na rede entre antes de entrar do decoder\n",
    "    autoencoder = Model(inputs=input_image, outputs=decoded_final)\n",
    "    return autoencoder, encoder\n",
    "\n",
    "(autoencoder, encoder) = create_Autoencoder()\n",
    "print(\"\\n############### ENCODER #################\")\n",
    "encoder.summary()\n",
    "print(\"\\n############### ENCODER + DECODER #################\")\n",
    "autoencoder.summary()\n"
   ]
  },
  {
   "cell_type": "code",
   "execution_count": 6,
   "metadata": {},
   "outputs": [
    {
     "data": {
      "image/png": "[encoded data removed]",
      "text/plain": [
       "<Figure size 864x576 with 2 Axes>"
      ]
     },
     "metadata": {
      "needs_background": "light"
     },
     "output_type": "display_data"
    },
    {
     "name": "stdout",
     "output_type": "stream",
     "text": [
      "Accuracy\n",
      "\tvalidation       \t (min:    0.799, max:    0.814, cur:    0.813)\n",
      "\ttraining         \t (min:    0.785, max:    0.814, cur:    0.814)\n",
      "Loss\n",
      "\tvalidation       \t (min:    0.085, max:    0.172, cur:    0.085)\n",
      "\ttraining         \t (min:    0.085, max:    0.252, cur:    0.085)\n",
      "Scores:  [0.08528854320049285, 0.8133552298545838]\n",
      "Erro autoencoder: 18.66%\n"
     ]
    }
   ],
   "source": [
    "def compiletrain(autoencoder, X_train, X_test):\n",
    "    autoencoder.compile(optimizer='adam', loss='binary_crossentropy', metrics=['accuracy'])\n",
    "    history = autoencoder.fit(X_train, X_train, \n",
    "                              epochs=50, \n",
    "                              batch_size=256, \n",
    "                              shuffle=True, \n",
    "                              validation_data=(X_test, X_test),\n",
    "                              verbose=0,\n",
    "                              callbacks=[PlotLossesKeras()])\n",
    "    # Avaliação final com os casos de teste\n",
    "    scores = autoencoder.evaluate(X_test, X_test, verbose=0)\n",
    "    print('Scores: ', scores)\n",
    "    print(\"Erro autoencoder: %.2f%%\" % (100-scores[1]*100))                                                                                                                                \n",
    "    return autoencoder,history\n",
    "\n",
    "(autoencoder,history)=compiletrain(autoencoder, X_train, X_test)"
   ]
  },
  {
   "cell_type": "code",
   "execution_count": 7,
   "metadata": {},
   "outputs": [
    {
     "name": "stdout",
     "output_type": "stream",
     "text": [
      "Original Images - first 10 images of X_test\n"
     ]
    },
    {
     "data": {
      "image/png": "[encoded data removed]",
      "text/plain": [
       "<Figure size 2160x72 with 10 Axes>"
      ]
     },
     "metadata": {
      "needs_background": "light"
     },
     "output_type": "display_data"
    },
    {
     "name": "stdout",
     "output_type": "stream",
     "text": [
      "Encoded Images - first 10 images of X_test\n"
     ]
    },
    {
     "data": {
      "image/png": "[encoded data removed]",
      "text/plain": [
       "<Figure size 2160x72 with 10 Axes>"
      ]
     },
     "metadata": {
      "needs_background": "light"
     },
     "output_type": "display_data"
    },
    {
     "name": "stdout",
     "output_type": "stream",
     "text": [
      "Decoded Images - first 10 images of X_test\n"
     ]
    },
    {
     "data": {
      "image/png": "[encoded data removed]",
      "text/plain": [
       "<Figure size 2160x72 with 10 Axes>"
      ]
     },
     "metadata": {
      "needs_background": "light"
     },
     "output_type": "display_data"
    }
   ],
   "source": [
    "def visualize_predictions(encoder,autoencoder,X_test):\n",
    "    encoded_images = encoder.predict(X_test)\n",
    "    predicted_images = autoencoder.predict(X_test)\n",
    "    \n",
    "    # Original Images\n",
    "    print(\"Original Images - first 10 images of X_test\")\n",
    "    plt.figure(figsize=(30, 1))\n",
    "    for i in range(10):\n",
    "        ax = plt.subplot(1, 20, i + 1)\n",
    "        plt.imshow(X_test[i].reshape(28, 28))\n",
    "        plt.gray()\n",
    "        ax.get_xaxis().set_visible(False)\n",
    "        ax.get_yaxis().set_visible(False)\n",
    "    plt.show()\n",
    "    # display Encoded Images  (latent space)\n",
    "    print(\"Encoded Images - first 10 images of X_test\")\n",
    "    plt.figure(figsize=(30, 1))\n",
    "    for i in range(10):\n",
    "        ax = plt.subplot(1, 20, i + 1)\n",
    "        plt.imshow(encoded_images[i].reshape(8,4))\n",
    "        plt.gray()\n",
    "        ax.get_xaxis().set_visible(False)\n",
    "        ax.get_yaxis().set_visible(False)\n",
    "    plt.show() \n",
    "    # display Decoded Images\n",
    "    print(\"Decoded Images - first 10 images of X_test\")\n",
    "    plt.figure(figsize=(30, 1))\n",
    "    for i in range(10):\n",
    "        ax = plt.subplot(1, 20, i+ 1)\n",
    "        plt.imshow(predicted_images[i].reshape(28, 28))\n",
    "        plt.gray()\n",
    "        ax.get_xaxis().set_visible(False)\n",
    "        ax.get_yaxis().set_visible(False)\n",
    "    plt.show()\n",
    "    \n",
    "visualize_predictions(encoder,autoencoder,X_test)"
   ]
  },
  {
   "cell_type": "code",
   "execution_count": 8,
   "metadata": {},
   "outputs": [
    {
     "name": "stdout",
     "output_type": "stream",
     "text": [
      "first 10 images of X_test\n",
      "Distancia: 1.5591776\n",
      "Distancia: 2.4646564\n",
      "Distancia: 1.0200822\n",
      "Distancia: 2.1187127\n",
      "Distancia: 2.4008245\n",
      "Distancia: 0.8090181\n",
      "Distancia: 3.2467504\n",
      "Distancia: 3.491412\n",
      "Distancia: 3.2289577\n",
      "Distancia: 2.2938309\n",
      "Distancia de não digito: 6546.4263\n"
     ]
    }
   ],
   "source": [
    "#Distancia nas imagens do dataset:\n",
    "def visualize_distancia_previsoes(encoder,autoencoder,X_test):\n",
    "    encoded_images = encoder.predict(X_test)\n",
    "    predicted_images = autoencoder.predict(X_test)  \n",
    "    # Original Images\n",
    "    print(\"first 10 images of X_test\")\n",
    "    for i in range(10):\n",
    "        dist = np.linalg.norm(X_test[i] - predicted_images[i], axis=-1)\n",
    "        print(\"Distancia:\",dist)\n",
    "    \n",
    "visualize_distancia_previsoes(encoder,autoencoder,X_test[:10])\n",
    "\n",
    "\n",
    "from keras.preprocessing import image\n",
    "# se a imagem imagem_nao_digito.png não for um digito do genero em que foi treinado então a distancia entre os dois vetores será muito grande.\n",
    "\n",
    "\n",
    "img = image.load_img(\"./imagem_nao_digito.png\", target_size=(28, 28), color_mode = \"grayscale\")\n",
    "input_img = image.img_to_array(img)\n",
    "inputs = input_img.reshape(1,784)\n",
    "target_data = autoencoder.predict(inputs)\n",
    "dist = np.linalg.norm(inputs - target_data, axis=-1)\n",
    "print(\"Distancia de não digito:\",dist[0])"
   ]
  },
  {
   "cell_type": "code",
   "execution_count": null,
   "metadata": {},
   "outputs": [],
   "source": []
  }
 ],
 "metadata": {
  "kernelspec": {
   "display_name": "Python 3",
   "language": "python",
   "name": "python3"
  },
  "language_info": {
   "codemirror_mode": {
    "name": "ipython",
    "version": 3
   },
   "file_extension": ".py",
   "mimetype": "text/x-python",
   "name": "python",
   "nbconvert_exporter": "python",
   "pygments_lexer": "ipython3",
   "version": "3.7.3"
  }
 },
 "nbformat": 4,
 "nbformat_minor": 4
}
