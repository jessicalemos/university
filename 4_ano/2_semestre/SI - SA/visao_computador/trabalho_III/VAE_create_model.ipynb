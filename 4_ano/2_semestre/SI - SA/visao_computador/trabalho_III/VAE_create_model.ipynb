{
 "cells": [
  {
   "cell_type": "markdown",
   "metadata": {},
   "source": [
    "**Modelos generativos: Variational autoencoder com encoder/decoder Conv2D**"
   ]
  },
  {
   "cell_type": "code",
   "execution_count": 25,
   "metadata": {},
   "outputs": [],
   "source": [
    "import sys, os \n",
    "os.environ['KERAS_BACKEND'] = \"tensorflow\"\n",
    "\n",
    "\n",
    "import keras\n",
    "from keras import backend as K\n",
    "#from keras import layers\n",
    "from keras.layers import Input, Dense, Flatten, Conv2D, Reshape, Conv2DTranspose, Lambda\n",
    "#from keras.datasets import mnist\n",
    "from keras.models import Model, Sequential\n",
    "from keras.utils import to_categorical\n",
    "\n",
    "from keras.layers import Input, Dense\n",
    "from keras.utils import np_utils\n",
    "\n",
    "from keras.callbacks import ModelCheckpoint\n",
    "import sys, os \n",
    "\n",
    "import numpy as np\n",
    "import pandas as pd\n",
    "import matplotlib.pyplot as plt\n",
    "from matplotlib import cm\n",
    "\n",
    "from livelossplot import PlotLossesKeras\n",
    "\n",
    "%matplotlib inline"
   ]
  },
  {
   "cell_type": "code",
   "execution_count": 26,
   "metadata": {},
   "outputs": [
    {
     "name": "stdout",
     "output_type": "stream",
     "text": [
      "A acertar o backend e libertar memória da grafica\n"
     ]
    }
   ],
   "source": [
    "#para melhor gestão memória GPU por parte do tensorflow\n",
    "import tensorflow as tf     \n",
    "\n",
    "def set_keras_backend(backend):\n",
    "    print(\"A acertar o backend e libertar memória da grafica\")\n",
    "    if K.backend() != backend:\n",
    "        os.environ['KERAS_BACKEND'] = backend\n",
    "        importlib.reload(K)\n",
    "        assert K.backend() == backend\n",
    "    if backend == \"tensorflow\":\n",
    "        config = tf.ConfigProto()\n",
    "        config.gpu_options.allow_growth = True\n",
    "        session = tf.Session(config=config)\n",
    "        \n",
    "def limit_mem():\n",
    "    K.get_session().close()\n",
    "    cfg = K.tf.ConfigProto()\n",
    "    cfg.gpu_options.allow_growth = True\n",
    "    K.set_session(K.tf.Session(config=cfg))\n",
    "\n",
    "set_keras_backend(\"tensorflow\")"
   ]
  },
  {
   "cell_type": "code",
   "execution_count": 27,
   "metadata": {},
   "outputs": [
    {
     "name": "stdout",
     "output_type": "stream",
     "text": [
      "(60000, 28, 28)\n"
     ]
    },
    {
     "data": {
      "image/png": "[encoded data removed]",
      "text/plain": [
       "<Figure size 432x288 with 6 Axes>"
      ]
     },
     "metadata": {
      "needs_background": "light"
     },
     "output_type": "display_data"
    },
    {
     "name": "stdout",
     "output_type": "stream",
     "text": [
      "shape[0]:  60000\n",
      "shape antes:  (60000, 28, 28)\n",
      "shape depois:  (60000, 28, 28, 1)\n"
     ]
    }
   ],
   "source": [
    "def load_mnist_dataset(path='mnist.npz'):\n",
    "    #path = get_file(path, origin='https://s3.amazonaws.com/img-datasets/mnist.npz')\n",
    "    f = np.load(path)\n",
    "    x_train = f['x_train']\n",
    "    y_train = f['y_train']\n",
    "    x_test = f['x_test']\n",
    "    y_test = f['y_test']\n",
    "    f.close()\n",
    "    return (x_train, y_train), (x_test, y_test)\n",
    "\n",
    "\n",
    "# Visualizar 6 imagens do mnist numa escala de cinzentos\n",
    "def visualize_mnist(X_train):\n",
    "    #(X_train, y_train), (X_test, y_test) = load_mnist_dataset('mnist.npz')\n",
    "    plt.subplot(321)\n",
    "    plt.imshow(X_train[0], cmap='gray')\n",
    "    plt.subplot(322)\n",
    "    plt.imshow(X_train[1], cmap='gray')\n",
    "    plt.subplot(323)\n",
    "    plt.imshow(X_train[2], cmap='gray')\n",
    "    plt.subplot(324)\n",
    "    plt.imshow(X_train[3], cmap='gray')\n",
    "    plt.subplot(325)\n",
    "    plt.imshow(X_train[4], cmap='gray')\n",
    "    plt.subplot(326)\n",
    "    plt.imshow(X_train[5], cmap='gray')\n",
    "    plt.show()\n",
    "    \n",
    "def data_preparation_2D():\n",
    "    (X_train, y_train), (X_test, y_test) = load_mnist_dataset('mnist.npz')\n",
    "    print(X_train.shape)\n",
    "    visualize_mnist(X_train)\n",
    "    # transformar para o formato [instancias][largura * altura]\n",
    "    print(\"shape[0]: \",X_train.shape[0])\n",
    "    print(\"shape antes: \",X_train.shape)\n",
    "    X_train = X_train.reshape(X_train.shape[0], 28, 28, 1).astype('float32')\n",
    "    X_test = X_test.reshape(X_test.shape[0], 28, 28, 1).astype('float32')\n",
    "    print(\"shape depois: \",X_train.shape)\n",
    "    # normalizar os valores dos pixeis de 0-255 para 0-1\n",
    "    X_train = X_train / 255\n",
    "    X_test = X_test / 255\n",
    "    # o 5 passa a ser a lista [0. 0. 0. 0. 0. 1. 0. 0. 0. 0.]\n",
    "    #y_train = np_utils.to_categorical(y_train)\n",
    "    #y_test = np_utils.to_categorical(y_test)\n",
    "    num_classes = 10 # y_test.shape[1]\n",
    "    return X_train, X_test, y_train, y_test, num_classes\n",
    "  \n",
    "    \n",
    "X_train, X_test, y_train, y_test, num_classes = data_preparation_2D()\n",
    "   "
   ]
  },
  {
   "cell_type": "markdown",
   "metadata": {},
   "source": [
    "\n",
    "\n",
    "\n"
   ]
  },
  {
   "cell_type": "code",
   "execution_count": 28,
   "metadata": {},
   "outputs": [
    {
     "name": "stdout",
     "output_type": "stream",
     "text": [
      "\n",
      "############### ENCODER #################\n",
      "Model: \"encoder\"\n",
      "__________________________________________________________________________________________________\n",
      "Layer (type)                    Output Shape         Param #     Connected to                     \n",
      "==================================================================================================\n",
      "input_10 (InputLayer)           (None, 28, 28, 1)    0                                            \n",
      "__________________________________________________________________________________________________\n",
      "conv2d_16 (Conv2D)              (None, 28, 28, 32)   320         input_10[0][0]                   \n",
      "__________________________________________________________________________________________________\n",
      "conv2d_17 (Conv2D)              (None, 14, 14, 64)   18496       conv2d_16[0][0]                  \n",
      "__________________________________________________________________________________________________\n",
      "conv2d_18 (Conv2D)              (None, 14, 14, 64)   36928       conv2d_17[0][0]                  \n",
      "__________________________________________________________________________________________________\n",
      "conv2d_19 (Conv2D)              (None, 14, 14, 64)   36928       conv2d_18[0][0]                  \n",
      "__________________________________________________________________________________________________\n",
      "flatten_4 (Flatten)             (None, 12544)        0           conv2d_19[0][0]                  \n",
      "__________________________________________________________________________________________________\n",
      "dense_13 (Dense)                (None, 32)           401440      flatten_4[0][0]                  \n",
      "__________________________________________________________________________________________________\n",
      "dense_14 (Dense)                (None, 2)            66          dense_13[0][0]                   \n",
      "__________________________________________________________________________________________________\n",
      "dense_15 (Dense)                (None, 2)            66          dense_13[0][0]                   \n",
      "==================================================================================================\n",
      "Total params: 494,244\n",
      "Trainable params: 494,244\n",
      "Non-trainable params: 0\n",
      "__________________________________________________________________________________________________\n",
      "\n",
      "############### DECODER #################\n",
      "Model: \"decoder\"\n",
      "_________________________________________________________________\n",
      "Layer (type)                 Output Shape              Param #   \n",
      "=================================================================\n",
      "input_11 (InputLayer)        (None, 2)                 0         \n",
      "_________________________________________________________________\n",
      "dense_16 (Dense)             (None, 12544)             37632     \n",
      "_________________________________________________________________\n",
      "reshape_4 (Reshape)          (None, 14, 14, 64)        0         \n",
      "_________________________________________________________________\n",
      "conv2d_transpose_4 (Conv2DTr (None, 28, 28, 32)        18464     \n",
      "_________________________________________________________________\n",
      "conv2d_20 (Conv2D)           (None, 28, 28, 1)         289       \n",
      "=================================================================\n",
      "Total params: 56,385\n",
      "Trainable params: 56,385\n",
      "Non-trainable params: 0\n",
      "_________________________________________________________________\n"
     ]
    }
   ],
   "source": [
    "def create_encoder():\n",
    "    input_image= Input(shape=(28, 28, 1)) #imagens do MNIST\n",
    "    encoded1 = Conv2D(32, 3, padding='same', activation='relu')(input_image)\n",
    "    encoded2 = Conv2D(64, 3, padding='same', activation='relu', strides=(2, 2))(encoded1)#com stride (2,2) vais diminuir a dimensão da imagem\n",
    "    encoded3 = Conv2D(64, 3, padding='same', activation='relu')(encoded2)\n",
    "    encoded4 = Conv2D(64, 3, padding='same', activation='relu')(encoded3)\n",
    "    encoded5 = Flatten()(encoded4)\n",
    "    encoded6 = Dense(32, activation='relu')(encoded5)\n",
    "    t_mean = Dense(2)(encoded6) #o 2 refere-se à dimensão do latent space\n",
    "    t_log_var = Dense(2)(encoded6)\n",
    "    #ver documentação do keras:\n",
    "    #Output of the created model are the sufficient statistics\n",
    "    #of the variational distriution q(t|x;phi), mean and log variance.\n",
    "    encoder = Model(inputs=input_image, outputs=[t_mean, t_log_var], name='encoder')\n",
    "    return encoder\n",
    "\n",
    "def create_decoder():\n",
    "    decoder_input = Input(shape=(2,)) #o 2 refere-se à dimensão do latent space (sampling)\n",
    "    decoded1 = Dense(12544, activation='relu')(decoder_input) #12544 = 14*14*64\n",
    "    decoded2 = Reshape((14, 14, 64))(decoded1)\n",
    "    decoded3 = Conv2DTranspose(32, 3, padding='same', activation='relu', strides=(2, 2))(decoded2)\n",
    "    decoded4 = Conv2D(1, 3, padding='same', activation='sigmoid')(decoded3)\n",
    "    #Outputs são imagens com shape (28, 28, 1) onde o valor de cada pixel corresponde à prob. de ser branco\n",
    "    decoder = Model(inputs=decoder_input, outputs=decoded4, name='decoder')\n",
    "    return decoder\n",
    "\n",
    "encoder = create_encoder()\n",
    "decoder = create_decoder()\n",
    "print(\"\\n############### ENCODER #################\")\n",
    "encoder.summary()\n",
    "print(\"\\n############### DECODER #################\")\n",
    "decoder.summary()\n"
   ]
  },
  {
   "cell_type": "code",
   "execution_count": 29,
   "metadata": {},
   "outputs": [
    {
     "name": "stdout",
     "output_type": "stream",
     "text": [
      "\n",
      "############### VARIATIONAL AUTOENCODER #################\n",
      "Model: \"vae\"\n",
      "__________________________________________________________________________________________________\n",
      "Layer (type)                    Output Shape         Param #     Connected to                     \n",
      "==================================================================================================\n",
      "input_12 (InputLayer)           (None, 28, 28, 1)    0                                            \n",
      "__________________________________________________________________________________________________\n",
      "encoder (Model)                 [(None, 2), (None, 2 494244      input_12[0][0]                   \n",
      "__________________________________________________________________________________________________\n",
      "sampler (Lambda)                (None, 2)            0           encoder[1][0]                    \n",
      "                                                                 encoder[1][1]                    \n",
      "__________________________________________________________________________________________________\n",
      "decoder (Model)                 (None, 28, 28, 1)    56385       sampler[0][0]                    \n",
      "==================================================================================================\n",
      "Total params: 550,629\n",
      "Trainable params: 550,629\n",
      "Non-trainable params: 0\n",
      "__________________________________________________________________________________________________\n"
     ]
    }
   ],
   "source": [
    "# em vez de codificar uma entrada como um único ponto, vamos codificar como uma distribuição no espaço latente\n",
    "\n",
    "#código baseado no exemplo da documentação do keras\n",
    "def sample(args):\n",
    "    '''\n",
    "    Draws samples from a standard normal and scales the samples with\n",
    "    standard deviation of the variational distribution and shifts them\n",
    "    by the mean.\n",
    "    Args: sufficient statistics of the variational distribution.\n",
    "    Returns: Samples from the variational distribution.\n",
    "    '''\n",
    "    t_mean, t_log_var = args\n",
    "    t_sigma = K.sqrt(K.exp(t_log_var))\n",
    "    epsilon = K.random_normal(shape=K.shape(t_mean), mean=0., stddev=1.)\n",
    "    return t_mean + t_sigma * epsilon\n",
    "\n",
    "#Lambda layers in Keras help you to implement layers or functionality that is not prebuilt \n",
    "#and which do not require trainable weights.\n",
    "def create_sampler(): #Creates a sampling layer.\n",
    "    return Lambda(sample, name='sampler') #Lambda refer-se ao layer.Lambda\n",
    "\n",
    "sampler = create_sampler()\n",
    "\n",
    "def create_vae():\n",
    "    input_image = Input(shape=(28, 28, 1))\n",
    "    t_mean, t_log_var = encoder(input_image)\n",
    "    t = sampler([t_mean, t_log_var]) #novo layer para fazer o sampling\n",
    "    t_decoded = decoder(t)\n",
    "    vae = Model(input_image, t_decoded, name='vae')\n",
    "    return vae, t_mean, t_log_var\n",
    "\n",
    "vae,t_mean, t_log_var = create_vae()\n",
    "print(\"\\n############### VARIATIONAL AUTOENCODER #################\")\n",
    "vae.summary()"
   ]
  },
  {
   "cell_type": "code",
   "execution_count": 30,
   "metadata": {},
   "outputs": [],
   "source": [
    "#ver documentação do keras (variational autoencoders)\n",
    "def neg_variational_lower_bound(input_image, t_decoded):\n",
    "    '''\n",
    "    Negative variational lower bound used as loss function\n",
    "    for training the variational auto-encoder.\n",
    "    Args:  input_image: input images\n",
    "           t_decoded: reconstructed images\n",
    "    '''\n",
    "    # Reconstruction loss\n",
    "    rc_loss = K.sum(K.binary_crossentropy(K.batch_flatten(input_image), K.batch_flatten(t_decoded)), axis=-1)\n",
    "    # Regularization term (KL divergence)\n",
    "    kl_loss = -0.5 * K.sum(1 + t_log_var - K.square(t_mean) - K.exp(t_log_var), axis=-1)\n",
    "    # Average over mini-batch\n",
    "    return K.mean(rc_loss + kl_loss)"
   ]
  },
  {
   "cell_type": "code",
   "execution_count": 31,
   "metadata": {},
   "outputs": [
    {
     "data": {
      "image/png": "[encoded data removed]",
      "text/plain": [
       "<Figure size 864x576 with 2 Axes>"
      ]
     },
     "metadata": {
      "needs_background": "light"
     },
     "output_type": "display_data"
    },
    {
     "name": "stdout",
     "output_type": "stream",
     "text": [
      "Accuracy\n",
      "\tvalidation       \t (min:    0.788, max:    0.802, cur:    0.802)\n",
      "\ttraining         \t (min:    0.792, max:    0.799, cur:    0.798)\n",
      "Loss\n",
      "\tvalidation       \t (min:  146.013, max:  186.617, cur:  149.545)\n",
      "\ttraining         \t (min:  144.281, max: 147621452.885, cur:  144.313)\n",
      "\n",
      "Epoch 00030: val_loss did not improve from 146.28663\n"
     ]
    }
   ],
   "source": [
    "def compiletrain(vae, X_train, X_test):\n",
    "    metrics = ['accuracy']\n",
    "    vae.compile(optimizer='rmsprop', loss=neg_variational_lower_bound, metrics=metrics)\n",
    "    checkpointer = ModelCheckpoint(filepath=\"best_weights.hdf5\", monitor = 'val_loss', verbose=1, save_best_only=True)\n",
    "    history = vae.fit(x=X_train, y=X_train, \n",
    "                      epochs=30, #25, \n",
    "                      shuffle=True, \n",
    "                      batch_size=128, \n",
    "                      validation_data=(X_test, X_test), \n",
    "                      verbose=0,\n",
    "                      callbacks=[PlotLossesKeras(),checkpointer])\n",
    "    vae.load_weights('best_weights.hdf5')\n",
    "    vae.save('model_vae_v1.h5') #isto não funciona devido à layer de sampling\n",
    "    return vae, history\n",
    "\n",
    "vae = compiletrain(vae, X_train, X_test)"
   ]
  },
  {
   "cell_type": "code",
   "execution_count": null,
   "metadata": {},
   "outputs": [],
   "source": []
  }
 ],
 "metadata": {
  "kernelspec": {
   "display_name": "Python 3",
   "language": "python",
   "name": "python3"
  },
  "language_info": {
   "codemirror_mode": {
    "name": "ipython",
    "version": 3
   },
   "file_extension": ".py",
   "mimetype": "text/x-python",
   "name": "python",
   "nbconvert_exporter": "python",
   "pygments_lexer": "ipython3",
   "version": "3.6.7"
  }
 },
 "nbformat": 4,
 "nbformat_minor": 4
}
