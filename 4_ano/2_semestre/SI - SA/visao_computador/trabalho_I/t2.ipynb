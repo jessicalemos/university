{
 "cells": [
  {
   "cell_type": "code",
   "execution_count": 82,
   "metadata": {},
   "outputs": [],
   "source": [
    "import numpy as np\n",
    "#from keras.datasets import mnist\n",
    "from keras.models import Sequential\n",
    "from keras.layers import Dense\n",
    "from keras.layers import Dropout\n",
    "from keras.layers import Flatten\n",
    "from keras.layers.convolutional import Conv2D\n",
    "from keras.layers.convolutional import MaxPooling2D\n",
    "from keras.utils import np_utils\n",
    "from keras import backend as K\n",
    "\n",
    "\n",
    "import matplotlib.pyplot as plt\n",
    "\n",
    "import  tensorflow as tf\n",
    "import keras.backend.tensorflow_backend as tfback\n",
    "\n",
    "def _get_available_gpus():  \n",
    "\n",
    "    if tfback._LOCAL_DEVICES is None:  \n",
    "        devices = tf.config.list_logical_devices()  \n",
    "        tfback._LOCAL_DEVICES = [x.name for x in devices]  \n",
    "    return [x for x in tfback._LOCAL_DEVICES if 'device:gpu' in x.lower()]\n",
    "\n",
    "\n",
    "tfback._get_available_gpus = _get_available_gpus"
   ]
  },
  {
   "cell_type": "code",
   "execution_count": 83,
   "metadata": {},
   "outputs": [],
   "source": [
    "# fixar random seed para se puder reproduzir os resultados\n",
    "seed = 9\n",
    "np.random.seed(seed)\n",
    "\n",
    "#util para visualizar a topologia da rede num ficheiro em pdf ou png\n",
    "def print_model(model,fich):\n",
    "    from keras.utils import plot_model\n",
    "    plot_model(model, to_file=fich, show_shapes=True, show_layer_names=True)\n",
    "\n",
    "def print_history_accuracy(history):\n",
    "    print(history.history.keys())\n",
    "    plt.plot(history.history['accuracy'])\n",
    "    plt.plot(history.history['val_accuracy'])\n",
    "    plt.title('model accuracy')\n",
    "    plt.ylabel('accuracy')\n",
    "    plt.xlabel('epoch')\n",
    "    plt.legend(['train', 'test'], loc='upper left')\n",
    "    plt.show()"
   ]
  },
  {
   "cell_type": "code",
   "execution_count": 84,
   "metadata": {},
   "outputs": [],
   "source": [
    "# Etapa 1 - preparar o dataset\n",
    "'''\n",
    "fazer o download do MNIST dataset com imagens de digitos escritos à mão para fazer a\n",
    "sua classificação (já pré-preparados)\n",
    "dataset: https://s3.amazonaws.com/img-datasets/mnist.npz\n",
    "O ficheiro já tem tudo separado nos ficheiros {x_test.npy, x_train.npy, y_test.npy,\n",
    "y_train.npy}\n",
    "Os atributos de entrada estão com matrizes 3D(imagem, largura,altura) e os atributos de\n",
    "saída é uma lista com o número correspondente\n",
    "'''\n",
    "def load_mnist_dataset(path='mnist.npz'):\n",
    "    #path = get_file(path, origin='https://s3.amazonaws.com/img-datasets/mnist.npz')\n",
    "    f = np.load(path)\n",
    "    x_train = f['x_train']\n",
    "    y_train = f['y_train']\n",
    "    x_test = f['x_test']\n",
    "    y_test = f['y_test']\n",
    "    f.close()\n",
    "    return (x_train, y_train), (x_test, y_test)"
   ]
  },
  {
   "cell_type": "code",
   "execution_count": 85,
   "metadata": {},
   "outputs": [],
   "source": [
    "# Etapa 2 - Definir a topologia da rede (arquitectura do modelo) e compilar \n",
    "'''\n",
    "criar uma rede neuronal convolucionária simples.\n",
    "- a primeira camada escondida é uma camada convolucionária chamada Convolution2D.\n",
    "A camada tem 32 feature maps , cada um de dimensão 5×5 e uma função de activação 'rectifier activation\n",
    "function'.\n",
    "trata-se de uma camada de input, à espera de imagens com a estrutura [pixels][width][height].\n",
    "- A segunda camada é de pooling que utiliza o max de MaxPooling2D.\n",
    "está configurado para uma pool size de 2×2.\n",
    "- A camada seguinte é de regularização que usa Dropout.\n",
    "Está configurado para excluir aleatóriamente 20% dos neuronios na camada para reduzir overfitting.\n",
    "- A camada seguinte converte os dados da matriz 2D num vector chamado Flatten.\n",
    "Assim permite-se que esse output seja tratado por uma camada completamente ligada standard.\n",
    "- A camada seguinte é uma completamente ligada com 128 neuronios e uma fução de activação 'rectifier activation\n",
    "function'.\n",
    "- Finalmente a camada de saida tem 10 neuronios correspondentes às 10 classes e uma função de activação softmax\n",
    "para apresentar na saida uma especie de probabilidade para cada classe.\n",
    "- O modelo é treinado utilizando logarithmic loss e o algoritmo de gradient descent ADAM.\n",
    "'''\n",
    "def create_compile_model_cnn_simples(num_classes):\n",
    "    model = Sequential()\n",
    "    model.add(Conv2D(32, (5, 5), input_shape=(1, 28, 28), activation='relu',data_format = 'channels_first'))\n",
    "    model.add(MaxPooling2D(pool_size=(2, 2)))\n",
    "    model.add(Dropout(0.2))\n",
    "    model.add(Flatten())\n",
    "    model.add(Dense(128, activation='relu'))\n",
    "    model.add(Dense(num_classes, activation='softmax'))\n",
    "    model.compile(loss='categorical_crossentropy', optimizer='adam', metrics=['accuracy'])\n",
    "    return model\n"
   ]
  },
  {
   "cell_type": "code",
   "execution_count": 86,
   "metadata": {},
   "outputs": [],
   "source": [
    "# Etapa 2 - Definir a topologia da rede (arquitectura do modelo) e compilar \n",
    "'''\n",
    "criar uma rede neuronal convolucionária mais complexa.\n",
    "- Convolutional layer com 30 feature maps de dimensão 5×5.\n",
    "- Pooling layer que passa o máximo de 2*2 patches.\n",
    "- Convolutional layer com 15 feature maps de dimensão 3×3.\n",
    "- Pooling layer que passa o máximo de 2*2 patches.\n",
    "- Dropout layer com probabilidade de 20%.\n",
    "- Flatten layer.\n",
    "- Fully connected layer com 128 neuronios e activação rectifier.\n",
    "- Fully connected layer com 50 neuronios e activação rectifier.\n",
    "- Output layer.\n",
    "- O modelo é treinado utilizando logarithmic loss e o algoritmo de gradient descent ADAM.\n",
    "'''\n",
    "def create_compile_model_cnn_plus(num_classes):\n",
    "    model = Sequential()\n",
    "    model.add(Conv2D(30, (5, 5), input_shape=(1, 28, 28), activation='relu',data_format = 'channels_first'))\n",
    "    model.add(MaxPooling2D(pool_size=(2, 2)))\n",
    "    model.add(Conv2D(15, (3, 3), activation='relu'))\n",
    "    model.add(MaxPooling2D(pool_size=(2, 2)))\n",
    "    model.add(Dropout(0.2))\n",
    "    model.add(Flatten())\n",
    "    model.add(Dense(128, activation='relu'))\n",
    "    model.add(Dense(50, activation='relu'))\n",
    "    model.add(Dense(num_classes, activation='softmax'))\n",
    "    # Compile model\n",
    "    model.compile(loss='categorical_crossentropy', optimizer='adam', metrics=['accuracy'])\n",
    "    return model"
   ]
  },
  {
   "cell_type": "code",
   "execution_count": 87,
   "metadata": {},
   "outputs": [],
   "source": [
    "def mnist_utilizando_cnn_simples():\n",
    "    (X_train, y_train), (X_test, y_test) = load_mnist_dataset('mnist.npz')\n",
    "    # transformar para o formato [instancias][pixeis][largura][altura]\n",
    "    X_train = X_train.reshape(X_train.shape[0], 1, 28, 28).astype('float32')\n",
    "    X_test = X_test.reshape(X_test.shape[0], 1, 28, 28).astype('float32')\n",
    "    # normalizar os valores dos pixeis de 0-255 para 0-1\n",
    "    X_train = X_train / 255\n",
    "    X_test = X_test / 255\n",
    "    # transformar o label que é um inteiro em categorias binárias, o valor passa a ser o correspondente à posição\n",
    "    # o 5 passa a ser a lista [0. 0. 0. 0. 0. 1. 0. 0. 0. 0.]\n",
    "    y_train = np_utils.to_categorical(y_train)\n",
    "    y_test = np_utils.to_categorical(y_test)\n",
    "    num_classes = y_test.shape[1]\n",
    "    # definir a topologia da rede e compilar\n",
    "    model = create_compile_model_cnn_simples(num_classes)\n",
    "    print_model(model,\"model_simples.png\")\n",
    "    # treinar a rede\n",
    "    history = model.fit(X_train, y_train, validation_data=(X_test, y_test), epochs=10,\n",
    "    batch_size=200, verbose=2)\n",
    "    print_history_accuracy(history)\n",
    "    #print_history_loss(history)\n",
    "    # Avaliação final com os casos de teste\n",
    "    scores = model.evaluate(X_test, y_test, verbose=0)\n",
    "    print('Scores: ', scores)\n",
    "    print(\"Erro modelo MLP: %.2f%%\" % (100-scores[1]*100))\n"
   ]
  },
  {
   "cell_type": "code",
   "execution_count": 88,
   "metadata": {},
   "outputs": [],
   "source": [
    "def mnist_utilizando_cnn_plus():\n",
    "    (X_train, y_train), (X_test, y_test) = load_mnist_dataset('mnist.npz')\n",
    "    # transformar para o formato [instancias][pixeis][largura][altura]\n",
    "    X_train = X_train.reshape(X_train.shape[0], 1, 28, 28).astype('float32')\n",
    "    X_test = X_test.reshape(X_test.shape[0], 1, 28, 28).astype('float32')\n",
    "    # normalizar os valores dos pixeis de 0-255 para 0-1\n",
    "    X_train = X_train / 255\n",
    "    X_test = X_test / 255\n",
    "    # transformar o label que é um inteiro em categorias binárias, o valor passa a ser o correspondente à posição\n",
    "    # o 5 passa a ser a lista [0. 0. 0. 0. 0. 1. 0. 0. 0. 0.]\n",
    "    y_train = np_utils.to_categorical(y_train)\n",
    "    y_test = np_utils.to_categorical(y_test)\n",
    "    num_classes = y_test.shape[1]\n",
    "    # definir a topologia da rede e compilar\n",
    "    model = create_compile_model_cnn_plus(num_classes)\n",
    "    print_model(model,\"model_plus.png\")\n",
    "    # treinar a rede\n",
    "    history = model.fit(X_train, y_train, validation_data=(X_test, y_test), epochs=10, batch_size=200,\n",
    "    verbose=2)\n",
    "    print_history_accuracy(history)\n",
    "    #print_history_loss(history)\n",
    "    # Avaliação final com os casos de teste\n",
    "    scores = model.evaluate(X_test, y_test, verbose=0)\n",
    "    print('Scores: ', scores)\n",
    "    print(\"Erro modelo MLP: %.2f%%\" % (100-scores[1]*100))"
   ]
  },
  {
   "cell_type": "code",
   "execution_count": 89,
   "metadata": {},
   "outputs": [
    {
     "name": "stdout",
     "output_type": "stream",
     "text": [
      "Train on 60000 samples, validate on 10000 samples\n",
      "Epoch 1/10\n",
      " - 56s - loss: 0.4873 - accuracy: 0.8507 - val_loss: 0.1368 - val_accuracy: 0.9595\n",
      "Epoch 2/10\n",
      " - 54s - loss: 0.1335 - accuracy: 0.9590 - val_loss: 0.0685 - val_accuracy: 0.9789\n",
      "Epoch 3/10\n",
      " - 58s - loss: 0.0891 - accuracy: 0.9725 - val_loss: 0.0513 - val_accuracy: 0.9823\n",
      "Epoch 4/10\n",
      " - 55s - loss: 0.0725 - accuracy: 0.9772 - val_loss: 0.0466 - val_accuracy: 0.9848\n",
      "Epoch 5/10\n",
      " - 54s - loss: 0.0604 - accuracy: 0.9813 - val_loss: 0.0362 - val_accuracy: 0.9887\n",
      "Epoch 6/10\n",
      " - 69s - loss: 0.0533 - accuracy: 0.9831 - val_loss: 0.0400 - val_accuracy: 0.9875\n",
      "Epoch 7/10\n",
      " - 57s - loss: 0.0471 - accuracy: 0.9851 - val_loss: 0.0400 - val_accuracy: 0.9867\n",
      "Epoch 8/10\n",
      " - 52s - loss: 0.0437 - accuracy: 0.9859 - val_loss: 0.0323 - val_accuracy: 0.9890\n",
      "Epoch 9/10\n",
      " - 65s - loss: 0.0396 - accuracy: 0.9876 - val_loss: 0.0303 - val_accuracy: 0.9896\n",
      "Epoch 10/10\n",
      " - 68s - loss: 0.0360 - accuracy: 0.9886 - val_loss: 0.0280 - val_accuracy: 0.9910\n",
      "dict_keys(['val_loss', 'val_accuracy', 'loss', 'accuracy'])\n"
     ]
    },
    {
     "data": {
      "image/png": "[encoded data removed]",
      "text/plain": [
       "<Figure size 432x288 with 1 Axes>"
      ]
     },
     "metadata": {
      "needs_background": "light"
     },
     "output_type": "display_data"
    },
    {
     "name": "stdout",
     "output_type": "stream",
     "text": [
      "Scores:  [0.027986554385244382, 0.9909999966621399]\n",
      "Erro modelo MLP: 0.90%\n"
     ]
    }
   ],
   "source": [
    "if __name__ == '__main__':\n",
    "    #mnist_utilizando_cnn_simples()\n",
    "    mnist_utilizando_cnn_plus()"
   ]
  },
  {
   "cell_type": "code",
   "execution_count": null,
   "metadata": {},
   "outputs": [],
   "source": []
  }
 ],
 "metadata": {
  "kernelspec": {
   "display_name": "Python 3",
   "language": "python",
   "name": "python3"
  },
  "language_info": {
   "codemirror_mode": {
    "name": "ipython",
    "version": 3
   },
   "file_extension": ".py",
   "mimetype": "text/x-python",
   "name": "python",
   "nbconvert_exporter": "python",
   "pygments_lexer": "ipython3",
   "version": "3.7.3"
  }
 },
 "nbformat": 4,
 "nbformat_minor": 2
}
