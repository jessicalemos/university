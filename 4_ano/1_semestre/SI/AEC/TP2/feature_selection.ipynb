{
 "cells": [
  {
   "cell_type": "markdown",
   "metadata": {},
   "source": [
    "# Feature Selection"
   ]
  },
  {
   "cell_type": "code",
   "execution_count": 144,
   "metadata": {},
   "outputs": [],
   "source": [
    "#data\n",
    "train_data = pd.read_csv(\"train_data.csv\",sep=\",\")\n",
    "train_data = train_data.drop('ID',1)\n",
    "train_data['Work load Average/day '] = [x.replace(',', '.') for x in train_data['Work load Average/day ']]\n",
    "train_data['Work load Average/day '] = train_data['Work load Average/day '].astype(float)\n",
    "train_target = train_data['Absent']\n",
    "train_data = train_data.drop('Absent',1)\n",
    "#test\n",
    "test_data = pd.read_csv(\"test_data.csv\", sep=',')\n",
    "test_data = test_data.drop('ID',1)\n",
    "test_target = pd.read_csv(\"sample_submission.csv\", sep=',')\n",
    "test_target = test_target['Absent']"
   ]
  },
  {
   "cell_type": "markdown",
   "metadata": {},
   "source": [
    "## Filter methods"
   ]
  },
  {
   "cell_type": "markdown",
   "metadata": {},
   "source": [
    "### SelectKBest"
   ]
  },
  {
   "cell_type": "code",
   "execution_count": 145,
   "metadata": {},
   "outputs": [],
   "source": [
    "from sklearn.feature_selection import SelectKBest, f_classif, chi2\n",
    "import pandas as pd"
   ]
  },
  {
   "cell_type": "code",
   "execution_count": 146,
   "metadata": {},
   "outputs": [
    {
     "data": {
      "text/plain": [
       "array([6.65228472e+01, 4.29279354e+00, 3.59177992e-02, 4.96026620e+00,\n",
       "       1.35411719e+01, 1.52429226e+01, 2.26486502e+00, 6.88538472e+00,\n",
       "       1.07531580e+01, 1.32254231e+00, 1.20380952e+02, 2.49960449e-02,\n",
       "       2.85246832e+00, 1.94442824e-04, 1.65032835e-01, 7.04967692e-01,\n",
       "       9.20682086e+00, 3.30162263e-02, 2.84634477e+00])"
      ]
     },
     "execution_count": 146,
     "metadata": {},
     "output_type": "execute_result"
    }
   ],
   "source": [
    "#selectkbest\n",
    "selector = SelectKBest(chi2, k=10) #testar de 1 a 19\n",
    "fit = selector.fit(train_data, train_target)\n",
    "#features selection\n",
    "cols = selector.get_support(indices=True)\n",
    "cols_names = list(train_data.columns[cols])\n",
    "selector.get_support(indices=True)\n",
    "fit.scores_"
   ]
  },
  {
   "cell_type": "markdown",
   "metadata": {},
   "source": [
    "### VarianceThreshold"
   ]
  },
  {
   "cell_type": "code",
   "execution_count": 147,
   "metadata": {},
   "outputs": [
    {
     "data": {
      "text/plain": [
       "array([7.28410560e+01, 1.11570040e+01, 2.05760000e+00, 1.35550000e+00,\n",
       "       4.52334240e+03, 2.26605516e+02, 1.62595000e+01, 3.75964000e+01,\n",
       "       1.88176180e+03, 1.52757760e+01, 5.99040000e-02, 3.14384000e-01,\n",
       "       1.38660400e+00, 2.35600000e-01, 7.02240000e-02, 1.14561600e+00,\n",
       "       1.58570796e+02, 3.87963960e+01, 1.71971000e+01])"
      ]
     },
     "execution_count": 147,
     "metadata": {},
     "output_type": "execute_result"
    }
   ],
   "source": [
    "from sklearn.feature_selection import VarianceThreshold\n",
    "selector = VarianceThreshold()\n",
    "selector.fit_transform(train_data)\n",
    "selector.variances_"
   ]
  },
  {
   "cell_type": "markdown",
   "metadata": {},
   "source": [
    "## Wrapper methods "
   ]
  },
  {
   "cell_type": "markdown",
   "metadata": {},
   "source": [
    "### Recursive Feature Elimination"
   ]
  },
  {
   "cell_type": "code",
   "execution_count": 148,
   "metadata": {},
   "outputs": [],
   "source": [
    "from sklearn.feature_selection import RFE\n",
    "from sklearn.linear_model import LogisticRegression"
   ]
  },
  {
   "cell_type": "code",
   "execution_count": 149,
   "metadata": {},
   "outputs": [
    {
     "name": "stdout",
     "output_type": "stream",
     "text": [
      "[ True False False  True False False False  True False  True  True  True\n",
      "  True  True  True  True False False False]\n",
      "[ 1  5  4  1  9  6 10  1  8  1  1  1  1  1  1  1  3  7  2]\n"
     ]
    },
    {
     "data": {
      "text/plain": [
       "array([ 0,  3,  7,  9, 10, 11, 12, 13, 14, 15])"
      ]
     },
     "execution_count": 149,
     "metadata": {},
     "output_type": "execute_result"
    }
   ],
   "source": [
    "model = LogisticRegression(solver='lbfgs',max_iter=5000)\n",
    "rfe = RFE(model,10)\n",
    "fit = rfe.fit(train_data,train_target)\n",
    "print(fit.support_)\n",
    "print(fit.ranking_)\n",
    "cols = rfe.get_support(indices=True)\n",
    "cols_names = list(train_data.columns[cols])\n",
    "cols"
   ]
  },
  {
   "cell_type": "markdown",
   "metadata": {},
   "source": [
    "## Embedded methods"
   ]
  },
  {
   "cell_type": "markdown",
   "metadata": {},
   "source": [
    "### Principal Component Analysis"
   ]
  },
  {
   "cell_type": "code",
   "execution_count": 150,
   "metadata": {},
   "outputs": [],
   "source": [
    "from sklearn.decomposition import PCA"
   ]
  },
  {
   "cell_type": "code",
   "execution_count": 151,
   "metadata": {},
   "outputs": [
    {
     "name": "stdout",
     "output_type": "stream",
     "text": [
      "[6.51593468e-01 2.69387514e-01 3.14339170e-02 2.34969706e-02\n",
      " 9.75036750e-03 6.22503399e-03 3.14907071e-03 2.58662848e-03\n",
      " 9.03237523e-04 7.24113323e-04 2.81593635e-04 1.57909067e-04\n",
      " 1.32742345e-04 1.08405996e-04 3.79887690e-05 1.19459097e-05\n",
      " 8.73174996e-06 5.53314513e-06 4.82854982e-06]\n"
     ]
    }
   ],
   "source": [
    "pca=PCA()\n",
    "fit=pca.fit(train_data)\n",
    "print(fit.explained_variance_ratio_)"
   ]
  },
  {
   "cell_type": "markdown",
   "metadata": {},
   "source": [
    "### Feature Importance"
   ]
  },
  {
   "cell_type": "code",
   "execution_count": 152,
   "metadata": {},
   "outputs": [],
   "source": [
    "from sklearn.ensemble import ExtraTreesClassifier"
   ]
  },
  {
   "cell_type": "code",
   "execution_count": 156,
   "metadata": {},
   "outputs": [
    {
     "data": {
      "text/plain": [
       "array([0.20382771, 0.07494147, 0.11644196, 0.04403426, 0.01552552,\n",
       "       0.01725602, 0.02220429, 0.03126988, 0.08897161, 0.08922842,\n",
       "       0.17167318, 0.00668475, 0.01949771, 0.00917288, 0.00553051,\n",
       "       0.01469211, 0.0225678 , 0.02284197, 0.02363795])"
      ]
     },
     "execution_count": 156,
     "metadata": {},
     "output_type": "execute_result"
    }
   ],
   "source": [
    "model = ExtraTreesClassifier(n_estimators=19)\n",
    "model.fit(train_data, train_target)\n",
    "model.feature_importances_"
   ]
  },
  {
   "cell_type": "code",
   "execution_count": null,
   "metadata": {},
   "outputs": [],
   "source": []
  }
 ],
 "metadata": {
  "kernelspec": {
   "display_name": "Python 3",
   "language": "python",
   "name": "python3"
  },
  "language_info": {
   "codemirror_mode": {
    "name": "ipython",
    "version": 3
   },
   "file_extension": ".py",
   "mimetype": "text/x-python",
   "name": "python",
   "nbconvert_exporter": "python",
   "pygments_lexer": "ipython3",
   "version": "3.7.3"
  }
 },
 "nbformat": 4,
 "nbformat_minor": 1
}
